{
 "cells": [
  {
   "cell_type": "code",
   "execution_count": 1,
   "metadata": {},
   "outputs": [],
   "source": [
    "import os\n",
    "import pandas as pd\n",
    "import numpy as np\n",
    "from sklearn.naive_bayes import MultinomialNB\n",
    "from sklearn.metrics import confusion_matrix\n",
    "from sklearn.svm import LinearSVC\n",
    "from sklearn.feature_extraction.text import TfidfVectorizer\n",
    "from sklearn.model_selection import StratifiedKFold\n",
    "from sklearn.model_selection import train_test_split\n",
    "from sklearn.metrics import accuracy_score\n",
    "from sklearn.ensemble import RandomForestClassifier\n",
    "    \n",
    "import IPython; from IPython.display import display, HTML\n",
    "def dfPrint(df):\n",
    "    display(HTML(df.to_html()))\n",
    "from tqdm import tqdm\n",
    "tqdm.pandas(desc=\"progress-bar\")"
   ]
  },
  {
   "cell_type": "code",
   "execution_count": 9,
   "metadata": {},
   "outputs": [
    {
     "name": "stdout",
     "output_type": "stream",
     "text": [
      "dataset loaded with shape (1622, 2)\n"
     ]
    },
    {
     "data": {
      "text/html": [
       "<table border=\"1\" class=\"dataframe\">\n",
       "  <thead>\n",
       "    <tr style=\"text-align: right;\">\n",
       "      <th></th>\n",
       "      <th>title</th>\n",
       "      <th>label</th>\n",
       "    </tr>\n",
       "  </thead>\n",
       "  <tbody>\n",
       "    <tr>\n",
       "      <th>1174</th>\n",
       "      <td>INFOSYS LIMITED : - Allotment of Shares</td>\n",
       "      <td>1</td>\n",
       "    </tr>\n",
       "    <tr>\n",
       "      <th>23</th>\n",
       "      <td>Sensex dives 510 points on growing political, ...</td>\n",
       "      <td>0</td>\n",
       "    </tr>\n",
       "    <tr>\n",
       "      <th>602</th>\n",
       "      <td>Midcap Stocks | Share Market Now: BSE Midcap i...</td>\n",
       "      <td>0</td>\n",
       "    </tr>\n",
       "    <tr>\n",
       "      <th>1113</th>\n",
       "      <td>Tata Steel Share Price: Market Now: Tata Steel...</td>\n",
       "      <td>0</td>\n",
       "    </tr>\n",
       "    <tr>\n",
       "      <th>63</th>\n",
       "      <td>+22% CAGR Growth to Be Achieved by Intelligent...</td>\n",
       "      <td>0</td>\n",
       "    </tr>\n",
       "  </tbody>\n",
       "</table>"
      ],
      "text/plain": [
       "<IPython.core.display.HTML object>"
      ]
     },
     "metadata": {},
     "output_type": "display_data"
    }
   ],
   "source": [
    "# ############# import data ##############\n",
    "# def import_data():\n",
    "#     train_path = \"../data/text_large_infy_mod.csv\"\n",
    "#     data = pd.read_csv(train_path)\n",
    "#     data.reset_index(inplace=True)\n",
    "#     data.drop('index', axis=1, inplace=True)\n",
    "#     data.drop(['year','month','date','hour','mins','no'], axis=1, inplace=True)\n",
    "#     print ('dataset loaded with shape', data.shape)\n",
    "#     return data\n",
    "\n",
    "# data = import_data()\n",
    "# dfPrint(data.sample(5))"
   ]
  },
  {
   "cell_type": "code",
   "execution_count": 11,
   "metadata": {},
   "outputs": [
    {
     "name": "stdout",
     "output_type": "stream",
     "text": [
      "dataset loaded with shape (1492, 2)\n"
     ]
    },
    {
     "data": {
      "text/html": [
       "<table border=\"1\" class=\"dataframe\">\n",
       "  <thead>\n",
       "    <tr style=\"text-align: right;\">\n",
       "      <th></th>\n",
       "      <th>title</th>\n",
       "      <th>label</th>\n",
       "    </tr>\n",
       "  </thead>\n",
       "  <tbody>\n",
       "    <tr>\n",
       "      <th>588</th>\n",
       "      <td>sensex today: Sensex loses 400 points as PNB f...</td>\n",
       "      <td>0</td>\n",
       "    </tr>\n",
       "    <tr>\n",
       "      <th>493</th>\n",
       "      <td>Tuesday evening news brief, March 06 2018</td>\n",
       "      <td>0</td>\n",
       "    </tr>\n",
       "    <tr>\n",
       "      <th>38</th>\n",
       "      <td>Axis bank to start Whatsapp pay</td>\n",
       "      <td>0</td>\n",
       "    </tr>\n",
       "    <tr>\n",
       "      <th>466</th>\n",
       "      <td>Google Alert - Bank</td>\n",
       "      <td>0</td>\n",
       "    </tr>\n",
       "    <tr>\n",
       "      <th>23</th>\n",
       "      <td>SFIO: PNB fraud fallout: 107 firms, 7 LLPs und...</td>\n",
       "      <td>0</td>\n",
       "    </tr>\n",
       "  </tbody>\n",
       "</table>"
      ],
      "text/plain": [
       "<IPython.core.display.HTML object>"
      ]
     },
     "metadata": {},
     "output_type": "display_data"
    }
   ],
   "source": [
    "############ import data ##############\n",
    "def import_data():\n",
    "    train_path = \"../data/AXISBANK.csv\"\n",
    "    data = pd.read_csv(train_path)\n",
    "#     data.reset_index(inplace=True)\n",
    "#     data.drop('index', axis=1, inplace=True)\n",
    "    data.drop(['time','index'], axis=1, inplace=True)\n",
    "    print ('dataset loaded with shape', data.shape)\n",
    "    return data\n",
    "\n",
    "data = import_data()\n",
    "dfPrint(data.sample(5))"
   ]
  },
  {
   "cell_type": "code",
   "execution_count": 12,
   "metadata": {},
   "outputs": [],
   "source": [
    "############### define documents ################\n",
    "docs = data[\"title\"]\n",
    "############# define class labels ###############\n",
    "labels = data[\"label\"]\n",
    "################## split_data ##################\n",
    "docs_train, docs_test, labels_train, labels_test = train_test_split(docs, labels, test_size=0.2, random_state=69)\n"
   ]
  },
  {
   "cell_type": "code",
   "execution_count": 13,
   "metadata": {},
   "outputs": [],
   "source": [
    "############### vectorizing data ###############\n",
    "vectorizer = TfidfVectorizer(min_df=5, max_df = 0.8, sublinear_tf=True, use_idf=True,stop_words='english')\n",
    "train_tf_idf = vectorizer.fit_transform(docs_train) \n",
    "test_tf_idf = vectorizer.transform(docs_test)"
   ]
  },
  {
   "cell_type": "code",
   "execution_count": 14,
   "metadata": {},
   "outputs": [
    {
     "name": "stdout",
     "output_type": "stream",
     "text": [
      "0.56856187291\n"
     ]
    }
   ],
   "source": [
    "############# defining momdels ##################\n",
    "model1 = LinearSVC(dual=False)\n",
    "############## fitting model ####################\n",
    "model1.fit(train_tf_idf,labels_train)\n",
    "############## calculating results #############\n",
    "result1 = model1.predict(test_tf_idf)\n",
    "############## evaluating model ################\n",
    "score1 = accuracy_score(labels_test, result1, normalize=True, sample_weight=None)\n",
    "\n",
    "print(score1)"
   ]
  },
  {
   "cell_type": "code",
   "execution_count": 15,
   "metadata": {},
   "outputs": [
    {
     "name": "stdout",
     "output_type": "stream",
     "text": [
      "0.595317725753\n"
     ]
    }
   ],
   "source": [
    "############# defining momdels ##################\n",
    "model2 = MultinomialNB()\n",
    "############## fitting model ####################\n",
    "model2.fit(train_tf_idf,labels_train)\n",
    "############## calculating results #############\n",
    "result2 = model2.predict(test_tf_idf)\n",
    "############## evaluating model ################\n",
    "score2 = accuracy_score(labels_test, result2, normalize=True, sample_weight=None)\n",
    "\n",
    "print(score2)"
   ]
  },
  {
   "cell_type": "code",
   "execution_count": 16,
   "metadata": {},
   "outputs": [
    {
     "name": "stdout",
     "output_type": "stream",
     "text": [
      "0.52508361204\n"
     ]
    }
   ],
   "source": [
    "############# defining momdels ##################\n",
    "model3 = RandomForestClassifier(n_estimators=25,max_depth=50,min_samples_leaf=10, random_state=0)\n",
    "############## fitting model ####################\n",
    "model3.fit(train_tf_idf,labels_train)\n",
    "############## calculating results #############\n",
    "result3 = model3.predict(test_tf_idf)\n",
    "\n",
    "############## evaluating model ################\n",
    "score3 = accuracy_score(labels_test, result3, normalize=True, sample_weight=None)\n",
    "\n",
    "print(score3)"
   ]
  },
  {
   "cell_type": "code",
   "execution_count": null,
   "metadata": {},
   "outputs": [],
   "source": []
  }
 ],
 "metadata": {
  "kernelspec": {
   "display_name": "Python 3",
   "language": "python",
   "name": "python3"
  },
  "language_info": {
   "codemirror_mode": {
    "name": "ipython",
    "version": 3
   },
   "file_extension": ".py",
   "mimetype": "text/x-python",
   "name": "python",
   "nbconvert_exporter": "python",
   "pygments_lexer": "ipython3",
   "version": "3.5.2"
  }
 },
 "nbformat": 4,
 "nbformat_minor": 2
}
